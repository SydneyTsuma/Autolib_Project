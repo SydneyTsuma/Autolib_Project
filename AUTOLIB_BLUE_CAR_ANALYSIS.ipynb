{
  "nbformat": 4,
  "nbformat_minor": 0,
  "metadata": {
    "colab": {
      "name": "AUTOLIB BLUE CAR ANALYSIS",
      "provenance": [],
      "collapsed_sections": [],
      "authorship_tag": "ABX9TyONv1miNTlscYnI44mt1PSt",
      "include_colab_link": true
    },
    "kernelspec": {
      "name": "python3",
      "display_name": "Python 3"
    },
    "language_info": {
      "name": "python"
    }
  },
  "cells": [
    {
      "cell_type": "markdown",
      "metadata": {
        "id": "view-in-github",
        "colab_type": "text"
      },
      "source": [
        "<a href=\"https://colab.research.google.com/github/SydneyTsuma/Autolib_Project/blob/main/AUTOLIB_BLUE_CAR_ANALYSIS.ipynb\" target=\"_parent\"><img src=\"https://colab.research.google.com/assets/colab-badge.svg\" alt=\"Open In Colab\"/></a>"
      ]
    },
    {
      "cell_type": "markdown",
      "metadata": {
        "id": "ncU8KdSoyUla"
      },
      "source": [
        "#SECTION 1 : Describing Data"
      ]
    },
    {
      "cell_type": "markdown",
      "metadata": {
        "id": "JkaIai81Oxyf"
      },
      "source": [
        "##Import Libraries"
      ]
    },
    {
      "cell_type": "code",
      "metadata": {
        "id": "4Hdiv77jObyP"
      },
      "source": [
        "# Data Manipulation\n",
        "import pandas as pd\n",
        "import numpy as np\n",
        "\n",
        "# Data Visualisation\n",
        "import matplotlib\n",
        "import matplotlib.pyplot as plt\n",
        "import seaborn as sns"
      ],
      "execution_count": 6,
      "outputs": []
    },
    {
      "cell_type": "markdown",
      "metadata": {
        "id": "iuBUfy7EUQpB"
      },
      "source": [
        "##Reading Files"
      ]
    },
    {
      "cell_type": "code",
      "metadata": {
        "colab": {
          "base_uri": "https://localhost:8080/",
          "height": 233
        },
        "id": "vpm6DOgMTzSf",
        "outputId": "e8dd7d29-b660-4df1-f355-8cee99303070"
      },
      "source": [
        "# Reading Autolib csv file\n",
        "\n",
        "Autolib = pd.read_csv('/content/autolib_daily_events_postal_code (1).csv')\n",
        "Autolib.head()"
      ],
      "execution_count": 7,
      "outputs": [
        {
          "output_type": "execute_result",
          "data": {
            "text/html": [
              "<div>\n",
              "<style scoped>\n",
              "    .dataframe tbody tr th:only-of-type {\n",
              "        vertical-align: middle;\n",
              "    }\n",
              "\n",
              "    .dataframe tbody tr th {\n",
              "        vertical-align: top;\n",
              "    }\n",
              "\n",
              "    .dataframe thead th {\n",
              "        text-align: right;\n",
              "    }\n",
              "</style>\n",
              "<table border=\"1\" class=\"dataframe\">\n",
              "  <thead>\n",
              "    <tr style=\"text-align: right;\">\n",
              "      <th></th>\n",
              "      <th>Postal code</th>\n",
              "      <th>date</th>\n",
              "      <th>n_daily_data_points</th>\n",
              "      <th>dayOfWeek</th>\n",
              "      <th>day_type</th>\n",
              "      <th>BlueCars_taken_sum</th>\n",
              "      <th>BlueCars_returned_sum</th>\n",
              "      <th>Utilib_taken_sum</th>\n",
              "      <th>Utilib_returned_sum</th>\n",
              "      <th>Utilib_14_taken_sum</th>\n",
              "      <th>Utilib_14_returned_sum</th>\n",
              "      <th>Slots_freed_sum</th>\n",
              "      <th>Slots_taken_sum</th>\n",
              "    </tr>\n",
              "  </thead>\n",
              "  <tbody>\n",
              "    <tr>\n",
              "      <th>0</th>\n",
              "      <td>75001</td>\n",
              "      <td>1/1/2018</td>\n",
              "      <td>1440</td>\n",
              "      <td>0</td>\n",
              "      <td>weekday</td>\n",
              "      <td>110</td>\n",
              "      <td>103</td>\n",
              "      <td>3</td>\n",
              "      <td>2</td>\n",
              "      <td>10</td>\n",
              "      <td>9</td>\n",
              "      <td>22</td>\n",
              "      <td>20</td>\n",
              "    </tr>\n",
              "    <tr>\n",
              "      <th>1</th>\n",
              "      <td>75001</td>\n",
              "      <td>1/2/2018</td>\n",
              "      <td>1438</td>\n",
              "      <td>1</td>\n",
              "      <td>weekday</td>\n",
              "      <td>98</td>\n",
              "      <td>94</td>\n",
              "      <td>1</td>\n",
              "      <td>1</td>\n",
              "      <td>8</td>\n",
              "      <td>8</td>\n",
              "      <td>23</td>\n",
              "      <td>22</td>\n",
              "    </tr>\n",
              "    <tr>\n",
              "      <th>2</th>\n",
              "      <td>75001</td>\n",
              "      <td>1/3/2018</td>\n",
              "      <td>1439</td>\n",
              "      <td>2</td>\n",
              "      <td>weekday</td>\n",
              "      <td>138</td>\n",
              "      <td>139</td>\n",
              "      <td>0</td>\n",
              "      <td>0</td>\n",
              "      <td>2</td>\n",
              "      <td>2</td>\n",
              "      <td>27</td>\n",
              "      <td>27</td>\n",
              "    </tr>\n",
              "    <tr>\n",
              "      <th>3</th>\n",
              "      <td>75001</td>\n",
              "      <td>1/4/2018</td>\n",
              "      <td>1320</td>\n",
              "      <td>3</td>\n",
              "      <td>weekday</td>\n",
              "      <td>104</td>\n",
              "      <td>104</td>\n",
              "      <td>2</td>\n",
              "      <td>2</td>\n",
              "      <td>9</td>\n",
              "      <td>8</td>\n",
              "      <td>25</td>\n",
              "      <td>21</td>\n",
              "    </tr>\n",
              "    <tr>\n",
              "      <th>4</th>\n",
              "      <td>75001</td>\n",
              "      <td>1/5/2018</td>\n",
              "      <td>1440</td>\n",
              "      <td>4</td>\n",
              "      <td>weekday</td>\n",
              "      <td>114</td>\n",
              "      <td>117</td>\n",
              "      <td>3</td>\n",
              "      <td>3</td>\n",
              "      <td>6</td>\n",
              "      <td>6</td>\n",
              "      <td>18</td>\n",
              "      <td>20</td>\n",
              "    </tr>\n",
              "  </tbody>\n",
              "</table>\n",
              "</div>"
            ],
            "text/plain": [
              "   Postal code      date  ...  Slots_freed_sum  Slots_taken_sum\n",
              "0        75001  1/1/2018  ...               22               20\n",
              "1        75001  1/2/2018  ...               23               22\n",
              "2        75001  1/3/2018  ...               27               27\n",
              "3        75001  1/4/2018  ...               25               21\n",
              "4        75001  1/5/2018  ...               18               20\n",
              "\n",
              "[5 rows x 13 columns]"
            ]
          },
          "metadata": {
            "tags": []
          },
          "execution_count": 7
        }
      ]
    },
    {
      "cell_type": "markdown",
      "metadata": {
        "id": "zLVYdW7BVECI"
      },
      "source": [
        "## Describe the data"
      ]
    },
    {
      "cell_type": "code",
      "metadata": {
        "colab": {
          "base_uri": "https://localhost:8080/"
        },
        "id": "vcMTSQf7Uv39",
        "outputId": "96ae26e3-cca8-42ea-aab8-91d808db8d83"
      },
      "source": [
        "Autolib.info()"
      ],
      "execution_count": 8,
      "outputs": [
        {
          "output_type": "stream",
          "text": [
            "<class 'pandas.core.frame.DataFrame'>\n",
            "RangeIndex: 16085 entries, 0 to 16084\n",
            "Data columns (total 13 columns):\n",
            " #   Column                  Non-Null Count  Dtype \n",
            "---  ------                  --------------  ----- \n",
            " 0   Postal code             16085 non-null  int64 \n",
            " 1   date                    16085 non-null  object\n",
            " 2   n_daily_data_points     16085 non-null  int64 \n",
            " 3   dayOfWeek               16085 non-null  int64 \n",
            " 4   day_type                16085 non-null  object\n",
            " 5   BlueCars_taken_sum      16085 non-null  int64 \n",
            " 6   BlueCars_returned_sum   16085 non-null  int64 \n",
            " 7   Utilib_taken_sum        16085 non-null  int64 \n",
            " 8   Utilib_returned_sum     16085 non-null  int64 \n",
            " 9   Utilib_14_taken_sum     16085 non-null  int64 \n",
            " 10  Utilib_14_returned_sum  16085 non-null  int64 \n",
            " 11  Slots_freed_sum         16085 non-null  int64 \n",
            " 12  Slots_taken_sum         16085 non-null  int64 \n",
            "dtypes: int64(11), object(2)\n",
            "memory usage: 1.6+ MB\n"
          ],
          "name": "stdout"
        }
      ]
    },
    {
      "cell_type": "code",
      "metadata": {
        "colab": {
          "base_uri": "https://localhost:8080/"
        },
        "id": "TFslgta0VLB0",
        "outputId": "43cea5fc-beb0-4df3-820b-150802d73519"
      },
      "source": [
        "Autolib.shape"
      ],
      "execution_count": 9,
      "outputs": [
        {
          "output_type": "execute_result",
          "data": {
            "text/plain": [
              "(16085, 13)"
            ]
          },
          "metadata": {
            "tags": []
          },
          "execution_count": 9
        }
      ]
    },
    {
      "cell_type": "code",
      "metadata": {
        "colab": {
          "base_uri": "https://localhost:8080/"
        },
        "id": "CznAeFBGJXC9",
        "outputId": "592b23d6-f931-4858-e8b4-4f4b4c0dd7a3"
      },
      "source": [
        "Autolib.nunique()"
      ],
      "execution_count": 10,
      "outputs": [
        {
          "output_type": "execute_result",
          "data": {
            "text/plain": [
              "Postal code               104\n",
              "date                      156\n",
              "n_daily_data_points        23\n",
              "dayOfWeek                   7\n",
              "day_type                    2\n",
              "BlueCars_taken_sum        932\n",
              "BlueCars_returned_sum     929\n",
              "Utilib_taken_sum           48\n",
              "Utilib_returned_sum        49\n",
              "Utilib_14_taken_sum        92\n",
              "Utilib_14_returned_sum     94\n",
              "Slots_freed_sum           297\n",
              "Slots_taken_sum           301\n",
              "dtype: int64"
            ]
          },
          "metadata": {
            "tags": []
          },
          "execution_count": 10
        }
      ]
    },
    {
      "cell_type": "markdown",
      "metadata": {
        "id": "4WdWqsrkK6vE"
      },
      "source": [
        "unique column identifier absent"
      ]
    },
    {
      "cell_type": "markdown",
      "metadata": {
        "id": "Yz9QSOFrJR4K"
      },
      "source": [
        "##Cleaning the Data"
      ]
    },
    {
      "cell_type": "markdown",
      "metadata": {
        "id": "Clyh4wecnAzI"
      },
      "source": [
        "###Data Uniformity"
      ]
    },
    {
      "cell_type": "code",
      "metadata": {
        "id": "_nl87HTTnG1-"
      },
      "source": [
        "# Dealing with anomalies\n",
        "Autolib.columns = Autolib.columns.str.replace(' ', '_')\n"
      ],
      "execution_count": 11,
      "outputs": []
    },
    {
      "cell_type": "markdown",
      "metadata": {
        "id": "zBP4MzhbLWoa"
      },
      "source": [
        "###Identifying Outliers"
      ]
    },
    {
      "cell_type": "code",
      "metadata": {
        "colab": {
          "base_uri": "https://localhost:8080/",
          "height": 424
        },
        "id": "Tau9cZdUOUXP",
        "outputId": "b924d919-ac78-4486-d47a-4306dbab3d55"
      },
      "source": [
        "# Filter dataset to specify outliers  to be viewed in dataset \n",
        "Weekends = Autolib[Autolib['day_type']=='weekend'] \n",
        "Weekends"
      ],
      "execution_count": 12,
      "outputs": [
        {
          "output_type": "execute_result",
          "data": {
            "text/html": [
              "<div>\n",
              "<style scoped>\n",
              "    .dataframe tbody tr th:only-of-type {\n",
              "        vertical-align: middle;\n",
              "    }\n",
              "\n",
              "    .dataframe tbody tr th {\n",
              "        vertical-align: top;\n",
              "    }\n",
              "\n",
              "    .dataframe thead th {\n",
              "        text-align: right;\n",
              "    }\n",
              "</style>\n",
              "<table border=\"1\" class=\"dataframe\">\n",
              "  <thead>\n",
              "    <tr style=\"text-align: right;\">\n",
              "      <th></th>\n",
              "      <th>Postal_code</th>\n",
              "      <th>date</th>\n",
              "      <th>n_daily_data_points</th>\n",
              "      <th>dayOfWeek</th>\n",
              "      <th>day_type</th>\n",
              "      <th>BlueCars_taken_sum</th>\n",
              "      <th>BlueCars_returned_sum</th>\n",
              "      <th>Utilib_taken_sum</th>\n",
              "      <th>Utilib_returned_sum</th>\n",
              "      <th>Utilib_14_taken_sum</th>\n",
              "      <th>Utilib_14_returned_sum</th>\n",
              "      <th>Slots_freed_sum</th>\n",
              "      <th>Slots_taken_sum</th>\n",
              "    </tr>\n",
              "  </thead>\n",
              "  <tbody>\n",
              "    <tr>\n",
              "      <th>5</th>\n",
              "      <td>75001</td>\n",
              "      <td>1/6/2018</td>\n",
              "      <td>1437</td>\n",
              "      <td>5</td>\n",
              "      <td>weekend</td>\n",
              "      <td>187</td>\n",
              "      <td>185</td>\n",
              "      <td>6</td>\n",
              "      <td>6</td>\n",
              "      <td>7</td>\n",
              "      <td>8</td>\n",
              "      <td>38</td>\n",
              "      <td>35</td>\n",
              "    </tr>\n",
              "    <tr>\n",
              "      <th>6</th>\n",
              "      <td>75001</td>\n",
              "      <td>1/7/2018</td>\n",
              "      <td>1440</td>\n",
              "      <td>6</td>\n",
              "      <td>weekend</td>\n",
              "      <td>180</td>\n",
              "      <td>180</td>\n",
              "      <td>2</td>\n",
              "      <td>2</td>\n",
              "      <td>10</td>\n",
              "      <td>9</td>\n",
              "      <td>34</td>\n",
              "      <td>34</td>\n",
              "    </tr>\n",
              "    <tr>\n",
              "      <th>12</th>\n",
              "      <td>75001</td>\n",
              "      <td>1/13/2018</td>\n",
              "      <td>1440</td>\n",
              "      <td>5</td>\n",
              "      <td>weekend</td>\n",
              "      <td>224</td>\n",
              "      <td>223</td>\n",
              "      <td>2</td>\n",
              "      <td>2</td>\n",
              "      <td>15</td>\n",
              "      <td>15</td>\n",
              "      <td>38</td>\n",
              "      <td>38</td>\n",
              "    </tr>\n",
              "    <tr>\n",
              "      <th>13</th>\n",
              "      <td>75001</td>\n",
              "      <td>1/14/2018</td>\n",
              "      <td>1440</td>\n",
              "      <td>6</td>\n",
              "      <td>weekend</td>\n",
              "      <td>193</td>\n",
              "      <td>193</td>\n",
              "      <td>2</td>\n",
              "      <td>2</td>\n",
              "      <td>12</td>\n",
              "      <td>12</td>\n",
              "      <td>22</td>\n",
              "      <td>20</td>\n",
              "    </tr>\n",
              "    <tr>\n",
              "      <th>19</th>\n",
              "      <td>75001</td>\n",
              "      <td>1/20/2018</td>\n",
              "      <td>1439</td>\n",
              "      <td>5</td>\n",
              "      <td>weekend</td>\n",
              "      <td>217</td>\n",
              "      <td>217</td>\n",
              "      <td>2</td>\n",
              "      <td>2</td>\n",
              "      <td>25</td>\n",
              "      <td>25</td>\n",
              "      <td>41</td>\n",
              "      <td>39</td>\n",
              "    </tr>\n",
              "    <tr>\n",
              "      <th>...</th>\n",
              "      <td>...</td>\n",
              "      <td>...</td>\n",
              "      <td>...</td>\n",
              "      <td>...</td>\n",
              "      <td>...</td>\n",
              "      <td>...</td>\n",
              "      <td>...</td>\n",
              "      <td>...</td>\n",
              "      <td>...</td>\n",
              "      <td>...</td>\n",
              "      <td>...</td>\n",
              "      <td>...</td>\n",
              "      <td>...</td>\n",
              "    </tr>\n",
              "    <tr>\n",
              "      <th>16068</th>\n",
              "      <td>95880</td>\n",
              "      <td>6/3/2018</td>\n",
              "      <td>1440</td>\n",
              "      <td>6</td>\n",
              "      <td>weekend</td>\n",
              "      <td>36</td>\n",
              "      <td>33</td>\n",
              "      <td>1</td>\n",
              "      <td>1</td>\n",
              "      <td>2</td>\n",
              "      <td>2</td>\n",
              "      <td>0</td>\n",
              "      <td>0</td>\n",
              "    </tr>\n",
              "    <tr>\n",
              "      <th>16074</th>\n",
              "      <td>95880</td>\n",
              "      <td>6/9/2018</td>\n",
              "      <td>1440</td>\n",
              "      <td>5</td>\n",
              "      <td>weekend</td>\n",
              "      <td>15</td>\n",
              "      <td>15</td>\n",
              "      <td>0</td>\n",
              "      <td>0</td>\n",
              "      <td>1</td>\n",
              "      <td>2</td>\n",
              "      <td>0</td>\n",
              "      <td>0</td>\n",
              "    </tr>\n",
              "    <tr>\n",
              "      <th>16075</th>\n",
              "      <td>95880</td>\n",
              "      <td>6/10/2018</td>\n",
              "      <td>1440</td>\n",
              "      <td>6</td>\n",
              "      <td>weekend</td>\n",
              "      <td>34</td>\n",
              "      <td>32</td>\n",
              "      <td>0</td>\n",
              "      <td>0</td>\n",
              "      <td>1</td>\n",
              "      <td>0</td>\n",
              "      <td>0</td>\n",
              "      <td>0</td>\n",
              "    </tr>\n",
              "    <tr>\n",
              "      <th>16081</th>\n",
              "      <td>95880</td>\n",
              "      <td>6/16/2018</td>\n",
              "      <td>1440</td>\n",
              "      <td>5</td>\n",
              "      <td>weekend</td>\n",
              "      <td>19</td>\n",
              "      <td>19</td>\n",
              "      <td>0</td>\n",
              "      <td>0</td>\n",
              "      <td>2</td>\n",
              "      <td>1</td>\n",
              "      <td>0</td>\n",
              "      <td>0</td>\n",
              "    </tr>\n",
              "    <tr>\n",
              "      <th>16082</th>\n",
              "      <td>95880</td>\n",
              "      <td>6/17/2018</td>\n",
              "      <td>1440</td>\n",
              "      <td>6</td>\n",
              "      <td>weekend</td>\n",
              "      <td>33</td>\n",
              "      <td>35</td>\n",
              "      <td>1</td>\n",
              "      <td>1</td>\n",
              "      <td>0</td>\n",
              "      <td>0</td>\n",
              "      <td>0</td>\n",
              "      <td>0</td>\n",
              "    </tr>\n",
              "  </tbody>\n",
              "</table>\n",
              "<p>4541 rows × 13 columns</p>\n",
              "</div>"
            ],
            "text/plain": [
              "       Postal_code       date  ...  Slots_freed_sum  Slots_taken_sum\n",
              "5            75001   1/6/2018  ...               38               35\n",
              "6            75001   1/7/2018  ...               34               34\n",
              "12           75001  1/13/2018  ...               38               38\n",
              "13           75001  1/14/2018  ...               22               20\n",
              "19           75001  1/20/2018  ...               41               39\n",
              "...            ...        ...  ...              ...              ...\n",
              "16068        95880   6/3/2018  ...                0                0\n",
              "16074        95880   6/9/2018  ...                0                0\n",
              "16075        95880  6/10/2018  ...                0                0\n",
              "16081        95880  6/16/2018  ...                0                0\n",
              "16082        95880  6/17/2018  ...                0                0\n",
              "\n",
              "[4541 rows x 13 columns]"
            ]
          },
          "metadata": {
            "tags": []
          },
          "execution_count": 12
        }
      ]
    },
    {
      "cell_type": "code",
      "metadata": {
        "colab": {
          "base_uri": "https://localhost:8080/",
          "height": 371
        },
        "id": "NUTXXIk4VpCF",
        "outputId": "fc5bfef9-0be6-4b2f-fc97-6dcf35a5210b"
      },
      "source": [
        "Weekend_Visual= Weekends.boxplot(column =['BlueCars_taken_sum'], by ='dayOfWeek', grid = False)\n",
        "Weekend_Visual"
      ],
      "execution_count": 13,
      "outputs": [
        {
          "output_type": "stream",
          "text": [
            "/usr/local/lib/python3.7/dist-packages/numpy/core/_asarray.py:83: VisibleDeprecationWarning: Creating an ndarray from ragged nested sequences (which is a list-or-tuple of lists-or-tuples-or ndarrays with different lengths or shapes) is deprecated. If you meant to do this, you must specify 'dtype=object' when creating the ndarray\n",
            "  return array(a, dtype, copy=False, order=order)\n"
          ],
          "name": "stderr"
        },
        {
          "output_type": "execute_result",
          "data": {
            "text/plain": [
              "<matplotlib.axes._subplots.AxesSubplot at 0x7f47717b6ed0>"
            ]
          },
          "metadata": {
            "tags": []
          },
          "execution_count": 13
        },
        {
          "output_type": "display_data",
          "data": {
            "image/png": "[encoded data removed]",
            "text/plain": [
              "<Figure size 432x288 with 1 Axes>"
            ]
          },
          "metadata": {
            "tags": [],
            "needs_background": "light"
          }
        }
      ]
    },
    {
      "cell_type": "code",
      "metadata": {
        "colab": {
          "base_uri": "https://localhost:8080/"
        },
        "id": "lqJ-ttyFQ48p",
        "outputId": "102c27a3-7133-4503-d3d0-2ca1c45fb14a"
      },
      "source": [
        "# Drop outliers \n",
        "\n",
        "# Checking for outliers using IQR Scores\n",
        "Q1 = Weekends.quantile(0.25)\n",
        "Q3 = Weekends.quantile(0.75)\n",
        "IQR = Q3 - Q1\n",
        "outlier = (Weekends< (Q1 - 1.5 * IQR)) |(Weekends > (Q3 + 1.5 * IQR))\n",
        "outlier.sum()\n",
        "\n",
        "# Removing outliers based on the IQR range \n",
        "#_Weekend_ = Weekends[~((Weekends < (Q1 - 1.5 * IQR)) | (Weekends> (Q3 + 1.5 * IQR))).any(axis=1)]\n",
        "\n",
        "# Printing the shape of our new dataset\n",
        "\n",
        "# print(Weekends.shape)"
      ],
      "execution_count": 14,
      "outputs": [
        {
          "output_type": "execute_result",
          "data": {
            "text/plain": [
              "BlueCars_returned_sum      659\n",
              "BlueCars_taken_sum         653\n",
              "Postal_code               1100\n",
              "Slots_freed_sum            892\n",
              "Slots_taken_sum            894\n",
              "Utilib_14_returned_sum     497\n",
              "Utilib_14_taken_sum        532\n",
              "Utilib_returned_sum        490\n",
              "Utilib_taken_sum           491\n",
              "date                         0\n",
              "dayOfWeek                    0\n",
              "day_type                     0\n",
              "n_daily_data_points        924\n",
              "dtype: int64"
            ]
          },
          "metadata": {
            "tags": []
          },
          "execution_count": 14
        }
      ]
    },
    {
      "cell_type": "code",
      "metadata": {
        "colab": {
          "base_uri": "https://localhost:8080/",
          "height": 508
        },
        "id": "ejLv8hPOPjU9",
        "outputId": "00453dc4-8370-407a-fcc9-b5742e6164e0"
      },
      "source": [
        "# Dropping unrequired columns\n",
        "Weekends.drop([\"Utilib_taken_sum\",\"Utilib_returned_sum\",\"Utilib_14_taken_sum\",\"Utilib_14_returned_sum\",\"Slots_freed_sum\",\"Slots_taken_sum\"],axis=1,inplace=True)\n",
        "Weekends\n"
      ],
      "execution_count": 15,
      "outputs": [
        {
          "output_type": "stream",
          "text": [
            "/usr/local/lib/python3.7/dist-packages/pandas/core/frame.py:4174: SettingWithCopyWarning: \n",
            "A value is trying to be set on a copy of a slice from a DataFrame\n",
            "\n",
            "See the caveats in the documentation: https://pandas.pydata.org/pandas-docs/stable/user_guide/indexing.html#returning-a-view-versus-a-copy\n",
            "  errors=errors,\n"
          ],
          "name": "stderr"
        },
        {
          "output_type": "execute_result",
          "data": {
            "text/html": [
              "<div>\n",
              "<style scoped>\n",
              "    .dataframe tbody tr th:only-of-type {\n",
              "        vertical-align: middle;\n",
              "    }\n",
              "\n",
              "    .dataframe tbody tr th {\n",
              "        vertical-align: top;\n",
              "    }\n",
              "\n",
              "    .dataframe thead th {\n",
              "        text-align: right;\n",
              "    }\n",
              "</style>\n",
              "<table border=\"1\" class=\"dataframe\">\n",
              "  <thead>\n",
              "    <tr style=\"text-align: right;\">\n",
              "      <th></th>\n",
              "      <th>Postal_code</th>\n",
              "      <th>date</th>\n",
              "      <th>n_daily_data_points</th>\n",
              "      <th>dayOfWeek</th>\n",
              "      <th>day_type</th>\n",
              "      <th>BlueCars_taken_sum</th>\n",
              "      <th>BlueCars_returned_sum</th>\n",
              "    </tr>\n",
              "  </thead>\n",
              "  <tbody>\n",
              "    <tr>\n",
              "      <th>5</th>\n",
              "      <td>75001</td>\n",
              "      <td>1/6/2018</td>\n",
              "      <td>1437</td>\n",
              "      <td>5</td>\n",
              "      <td>weekend</td>\n",
              "      <td>187</td>\n",
              "      <td>185</td>\n",
              "    </tr>\n",
              "    <tr>\n",
              "      <th>6</th>\n",
              "      <td>75001</td>\n",
              "      <td>1/7/2018</td>\n",
              "      <td>1440</td>\n",
              "      <td>6</td>\n",
              "      <td>weekend</td>\n",
              "      <td>180</td>\n",
              "      <td>180</td>\n",
              "    </tr>\n",
              "    <tr>\n",
              "      <th>12</th>\n",
              "      <td>75001</td>\n",
              "      <td>1/13/2018</td>\n",
              "      <td>1440</td>\n",
              "      <td>5</td>\n",
              "      <td>weekend</td>\n",
              "      <td>224</td>\n",
              "      <td>223</td>\n",
              "    </tr>\n",
              "    <tr>\n",
              "      <th>13</th>\n",
              "      <td>75001</td>\n",
              "      <td>1/14/2018</td>\n",
              "      <td>1440</td>\n",
              "      <td>6</td>\n",
              "      <td>weekend</td>\n",
              "      <td>193</td>\n",
              "      <td>193</td>\n",
              "    </tr>\n",
              "    <tr>\n",
              "      <th>19</th>\n",
              "      <td>75001</td>\n",
              "      <td>1/20/2018</td>\n",
              "      <td>1439</td>\n",
              "      <td>5</td>\n",
              "      <td>weekend</td>\n",
              "      <td>217</td>\n",
              "      <td>217</td>\n",
              "    </tr>\n",
              "    <tr>\n",
              "      <th>...</th>\n",
              "      <td>...</td>\n",
              "      <td>...</td>\n",
              "      <td>...</td>\n",
              "      <td>...</td>\n",
              "      <td>...</td>\n",
              "      <td>...</td>\n",
              "      <td>...</td>\n",
              "    </tr>\n",
              "    <tr>\n",
              "      <th>16068</th>\n",
              "      <td>95880</td>\n",
              "      <td>6/3/2018</td>\n",
              "      <td>1440</td>\n",
              "      <td>6</td>\n",
              "      <td>weekend</td>\n",
              "      <td>36</td>\n",
              "      <td>33</td>\n",
              "    </tr>\n",
              "    <tr>\n",
              "      <th>16074</th>\n",
              "      <td>95880</td>\n",
              "      <td>6/9/2018</td>\n",
              "      <td>1440</td>\n",
              "      <td>5</td>\n",
              "      <td>weekend</td>\n",
              "      <td>15</td>\n",
              "      <td>15</td>\n",
              "    </tr>\n",
              "    <tr>\n",
              "      <th>16075</th>\n",
              "      <td>95880</td>\n",
              "      <td>6/10/2018</td>\n",
              "      <td>1440</td>\n",
              "      <td>6</td>\n",
              "      <td>weekend</td>\n",
              "      <td>34</td>\n",
              "      <td>32</td>\n",
              "    </tr>\n",
              "    <tr>\n",
              "      <th>16081</th>\n",
              "      <td>95880</td>\n",
              "      <td>6/16/2018</td>\n",
              "      <td>1440</td>\n",
              "      <td>5</td>\n",
              "      <td>weekend</td>\n",
              "      <td>19</td>\n",
              "      <td>19</td>\n",
              "    </tr>\n",
              "    <tr>\n",
              "      <th>16082</th>\n",
              "      <td>95880</td>\n",
              "      <td>6/17/2018</td>\n",
              "      <td>1440</td>\n",
              "      <td>6</td>\n",
              "      <td>weekend</td>\n",
              "      <td>33</td>\n",
              "      <td>35</td>\n",
              "    </tr>\n",
              "  </tbody>\n",
              "</table>\n",
              "<p>4541 rows × 7 columns</p>\n",
              "</div>"
            ],
            "text/plain": [
              "       Postal_code       date  ...  BlueCars_taken_sum  BlueCars_returned_sum\n",
              "5            75001   1/6/2018  ...                 187                    185\n",
              "6            75001   1/7/2018  ...                 180                    180\n",
              "12           75001  1/13/2018  ...                 224                    223\n",
              "13           75001  1/14/2018  ...                 193                    193\n",
              "19           75001  1/20/2018  ...                 217                    217\n",
              "...            ...        ...  ...                 ...                    ...\n",
              "16068        95880   6/3/2018  ...                  36                     33\n",
              "16074        95880   6/9/2018  ...                  15                     15\n",
              "16075        95880  6/10/2018  ...                  34                     32\n",
              "16081        95880  6/16/2018  ...                  19                     19\n",
              "16082        95880  6/17/2018  ...                  33                     35\n",
              "\n",
              "[4541 rows x 7 columns]"
            ]
          },
          "metadata": {
            "tags": []
          },
          "execution_count": 15
        }
      ]
    },
    {
      "cell_type": "code",
      "metadata": {
        "colab": {
          "base_uri": "https://localhost:8080/"
        },
        "id": "Sjj3A0UtiXMC",
        "outputId": "fe58d395-1c7d-4a78-b8ec-193d82bd0c90"
      },
      "source": [
        "# Converting date type from object to date type\n",
        "Weekends['date']=pd.to_datetime(Weekends['date'])"
      ],
      "execution_count": 16,
      "outputs": [
        {
          "output_type": "stream",
          "text": [
            "/usr/local/lib/python3.7/dist-packages/ipykernel_launcher.py:2: SettingWithCopyWarning: \n",
            "A value is trying to be set on a copy of a slice from a DataFrame.\n",
            "Try using .loc[row_indexer,col_indexer] = value instead\n",
            "\n",
            "See the caveats in the documentation: https://pandas.pydata.org/pandas-docs/stable/user_guide/indexing.html#returning-a-view-versus-a-copy\n",
            "  \n"
          ],
          "name": "stderr"
        }
      ]
    },
    {
      "cell_type": "code",
      "metadata": {
        "colab": {
          "base_uri": "https://localhost:8080/"
        },
        "id": "K5TlYasWjEuP",
        "outputId": "aece0786-c78e-430b-f095-dd520223a2fd"
      },
      "source": [
        "Weekends.info()"
      ],
      "execution_count": 17,
      "outputs": [
        {
          "output_type": "stream",
          "text": [
            "<class 'pandas.core.frame.DataFrame'>\n",
            "Int64Index: 4541 entries, 5 to 16082\n",
            "Data columns (total 7 columns):\n",
            " #   Column                 Non-Null Count  Dtype         \n",
            "---  ------                 --------------  -----         \n",
            " 0   Postal_code            4541 non-null   int64         \n",
            " 1   date                   4541 non-null   datetime64[ns]\n",
            " 2   n_daily_data_points    4541 non-null   int64         \n",
            " 3   dayOfWeek              4541 non-null   int64         \n",
            " 4   day_type               4541 non-null   object        \n",
            " 5   BlueCars_taken_sum     4541 non-null   int64         \n",
            " 6   BlueCars_returned_sum  4541 non-null   int64         \n",
            "dtypes: datetime64[ns](1), int64(5), object(1)\n",
            "memory usage: 283.8+ KB\n"
          ],
          "name": "stdout"
        }
      ]
    },
    {
      "cell_type": "markdown",
      "metadata": {
        "id": "EwFcdlzqy8LL"
      },
      "source": [
        "#SECTION 2 : Exploratory Data Analysis"
      ]
    },
    {
      "cell_type": "markdown",
      "metadata": {
        "id": "X5b7lyZOzwhD"
      },
      "source": [
        "##Univariate Analysis"
      ]
    },
    {
      "cell_type": "code",
      "metadata": {
        "id": "R3DaeFhczGYy",
        "colab": {
          "base_uri": "https://localhost:8080/",
          "height": 333
        },
        "outputId": "04fa8325-673c-4f66-8c9b-693aa102fb87"
      },
      "source": [
        "# Frequency of day type plot\n",
        "Autolib ['day_type'].value_counts().plot.bar(title='Freq of day type')"
      ],
      "execution_count": 18,
      "outputs": [
        {
          "output_type": "execute_result",
          "data": {
            "text/plain": [
              "<matplotlib.axes._subplots.AxesSubplot at 0x7f4770739910>"
            ]
          },
          "metadata": {
            "tags": []
          },
          "execution_count": 18
        },
        {
          "output_type": "display_data",
          "data": {
            "image/png": "[encoded data removed]",
            "text/plain": [
              "<Figure size 432x288 with 1 Axes>"
            ]
          },
          "metadata": {
            "tags": [],
            "needs_background": "light"
          }
        }
      ]
    },
    {
      "cell_type": "markdown",
      "metadata": {
        "id": "Zsq-DC1br5za"
      },
      "source": [
        "##Bivariate Analysis"
      ]
    },
    {
      "cell_type": "code",
      "metadata": {
        "colab": {
          "base_uri": "https://localhost:8080/",
          "height": 736
        },
        "id": "CMVyccd8kwYJ",
        "outputId": "5d2e8de9-f212-40d6-80b0-18bb13a3db73"
      },
      "source": [
        "# Frequency distribution Plot\n",
        "col_names = ['BlueCars_taken_sum', 'BlueCars_returned_sum','n_daily_data_points']\n",
        "\n",
        "fig, ax = plt.subplots(len(col_names), figsize=(8,10))\n",
        "\n",
        "for i, col_val in enumerate(col_names):\n",
        "  sns.distplot(Weekends[col_val], hist=True, ax=ax[i], color='crimson')\n",
        "  ax[i].set_title('Frequency Dist' + col_val, color='black',fontsize=5,)\n",
        "  ax[i].set_xlabel(col_val, fontsize=8)\n",
        "  ax[i].set_ylabel(col_val, fontsize=8)\n",
        "\n",
        "plt.show()"
      ],
      "execution_count": 19,
      "outputs": [
        {
          "output_type": "stream",
          "text": [
            "/usr/local/lib/python3.7/dist-packages/seaborn/distributions.py:2557: FutureWarning: `distplot` is a deprecated function and will be removed in a future version. Please adapt your code to use either `displot` (a figure-level function with similar flexibility) or `histplot` (an axes-level function for histograms).\n",
            "  warnings.warn(msg, FutureWarning)\n",
            "/usr/local/lib/python3.7/dist-packages/seaborn/distributions.py:2557: FutureWarning: `distplot` is a deprecated function and will be removed in a future version. Please adapt your code to use either `displot` (a figure-level function with similar flexibility) or `histplot` (an axes-level function for histograms).\n",
            "  warnings.warn(msg, FutureWarning)\n",
            "/usr/local/lib/python3.7/dist-packages/seaborn/distributions.py:2557: FutureWarning: `distplot` is a deprecated function and will be removed in a future version. Please adapt your code to use either `displot` (a figure-level function with similar flexibility) or `histplot` (an axes-level function for histograms).\n",
            "  warnings.warn(msg, FutureWarning)\n"
          ],
          "name": "stderr"
        },
        {
          "output_type": "display_data",
          "data": {
            "image/png": "[encoded data removed]",
            "text/plain": [
              "<Figure size 576x720 with 3 Axes>"
            ]
          },
          "metadata": {
            "tags": [],
            "needs_background": "light"
          }
        }
      ]
    },
    {
      "cell_type": "code",
      "metadata": {
        "colab": {
          "base_uri": "https://localhost:8080/",
          "height": 673
        },
        "id": "Bd44ZJFklGTP",
        "outputId": "b6077286-b5ff-4aef-a6ff-6576ad433a28"
      },
      "source": [
        "# The total number of blue cars in each postal code\n",
        "Postal_code=Weekends.pivot_table(values=['BlueCars_taken_sum'],index=['Postal_code'],aggfunc='sum').sort_values(by='BlueCars_taken_sum',ascending=0)\n",
        "Postal_code.head(20)"
      ],
      "execution_count": 20,
      "outputs": [
        {
          "output_type": "execute_result",
          "data": {
            "text/html": [
              "<div>\n",
              "<style scoped>\n",
              "    .dataframe tbody tr th:only-of-type {\n",
              "        vertical-align: middle;\n",
              "    }\n",
              "\n",
              "    .dataframe tbody tr th {\n",
              "        vertical-align: top;\n",
              "    }\n",
              "\n",
              "    .dataframe thead th {\n",
              "        text-align: right;\n",
              "    }\n",
              "</style>\n",
              "<table border=\"1\" class=\"dataframe\">\n",
              "  <thead>\n",
              "    <tr style=\"text-align: right;\">\n",
              "      <th></th>\n",
              "      <th>BlueCars_taken_sum</th>\n",
              "    </tr>\n",
              "    <tr>\n",
              "      <th>Postal_code</th>\n",
              "      <th></th>\n",
              "    </tr>\n",
              "  </thead>\n",
              "  <tbody>\n",
              "    <tr>\n",
              "      <th>75015</th>\n",
              "      <td>47202</td>\n",
              "    </tr>\n",
              "    <tr>\n",
              "      <th>75016</th>\n",
              "      <td>38998</td>\n",
              "    </tr>\n",
              "    <tr>\n",
              "      <th>75017</th>\n",
              "      <td>36565</td>\n",
              "    </tr>\n",
              "    <tr>\n",
              "      <th>75019</th>\n",
              "      <td>30009</td>\n",
              "    </tr>\n",
              "    <tr>\n",
              "      <th>75013</th>\n",
              "      <td>28931</td>\n",
              "    </tr>\n",
              "    <tr>\n",
              "      <th>75012</th>\n",
              "      <td>28227</td>\n",
              "    </tr>\n",
              "    <tr>\n",
              "      <th>75014</th>\n",
              "      <td>26044</td>\n",
              "    </tr>\n",
              "    <tr>\n",
              "      <th>75020</th>\n",
              "      <td>26034</td>\n",
              "    </tr>\n",
              "    <tr>\n",
              "      <th>75011</th>\n",
              "      <td>25572</td>\n",
              "    </tr>\n",
              "    <tr>\n",
              "      <th>75018</th>\n",
              "      <td>23675</td>\n",
              "    </tr>\n",
              "    <tr>\n",
              "      <th>75008</th>\n",
              "      <td>18975</td>\n",
              "    </tr>\n",
              "    <tr>\n",
              "      <th>75010</th>\n",
              "      <td>18136</td>\n",
              "    </tr>\n",
              "    <tr>\n",
              "      <th>75009</th>\n",
              "      <td>17081</td>\n",
              "    </tr>\n",
              "    <tr>\n",
              "      <th>92100</th>\n",
              "      <td>16950</td>\n",
              "    </tr>\n",
              "    <tr>\n",
              "      <th>75005</th>\n",
              "      <td>16086</td>\n",
              "    </tr>\n",
              "    <tr>\n",
              "      <th>75007</th>\n",
              "      <td>14371</td>\n",
              "    </tr>\n",
              "    <tr>\n",
              "      <th>75006</th>\n",
              "      <td>14165</td>\n",
              "    </tr>\n",
              "    <tr>\n",
              "      <th>75003</th>\n",
              "      <td>13534</td>\n",
              "    </tr>\n",
              "    <tr>\n",
              "      <th>92130</th>\n",
              "      <td>12134</td>\n",
              "    </tr>\n",
              "    <tr>\n",
              "      <th>75004</th>\n",
              "      <td>12116</td>\n",
              "    </tr>\n",
              "  </tbody>\n",
              "</table>\n",
              "</div>"
            ],
            "text/plain": [
              "             BlueCars_taken_sum\n",
              "Postal_code                    \n",
              "75015                     47202\n",
              "75016                     38998\n",
              "75017                     36565\n",
              "75019                     30009\n",
              "75013                     28931\n",
              "75012                     28227\n",
              "75014                     26044\n",
              "75020                     26034\n",
              "75011                     25572\n",
              "75018                     23675\n",
              "75008                     18975\n",
              "75010                     18136\n",
              "75009                     17081\n",
              "92100                     16950\n",
              "75005                     16086\n",
              "75007                     14371\n",
              "75006                     14165\n",
              "75003                     13534\n",
              "92130                     12134\n",
              "75004                     12116"
            ]
          },
          "metadata": {
            "tags": []
          },
          "execution_count": 20
        }
      ]
    },
    {
      "cell_type": "code",
      "metadata": {
        "colab": {
          "base_uri": "https://localhost:8080/",
          "height": 920
        },
        "id": "rlTJqFnBmxHx",
        "outputId": "779642ee-8394-4b78-f74a-5721820a0834"
      },
      "source": [
        "# Generate a pair plot for the dataset\n",
        "sns.pairplot(Weekends)"
      ],
      "execution_count": 21,
      "outputs": [
        {
          "output_type": "execute_result",
          "data": {
            "text/plain": [
              "<seaborn.axisgrid.PairGrid at 0x7f477063cb10>"
            ]
          },
          "metadata": {
            "tags": []
          },
          "execution_count": 21
        },
        {
          "output_type": "display_data",
          "data": {
            "image/png": "[encoded data removed]",
            "text/plain": [
              "<Figure size 900x900 with 30 Axes>"
            ]
          },
          "metadata": {
            "tags": [],
            "needs_background": "light"
          }
        }
      ]
    },
    {
      "cell_type": "code",
      "metadata": {
        "colab": {
          "base_uri": "https://localhost:8080/",
          "height": 196
        },
        "id": "nQYI-uv1oydw",
        "outputId": "7fe8d7ee-e2b6-4a62-8b08-830a7f4f0e42"
      },
      "source": [
        "# Calculeate pearsons coefficient to confirm results\n",
        "Weekends.corr()"
      ],
      "execution_count": 22,
      "outputs": [
        {
          "output_type": "execute_result",
          "data": {
            "text/html": [
              "<div>\n",
              "<style scoped>\n",
              "    .dataframe tbody tr th:only-of-type {\n",
              "        vertical-align: middle;\n",
              "    }\n",
              "\n",
              "    .dataframe tbody tr th {\n",
              "        vertical-align: top;\n",
              "    }\n",
              "\n",
              "    .dataframe thead th {\n",
              "        text-align: right;\n",
              "    }\n",
              "</style>\n",
              "<table border=\"1\" class=\"dataframe\">\n",
              "  <thead>\n",
              "    <tr style=\"text-align: right;\">\n",
              "      <th></th>\n",
              "      <th>Postal_code</th>\n",
              "      <th>n_daily_data_points</th>\n",
              "      <th>dayOfWeek</th>\n",
              "      <th>BlueCars_taken_sum</th>\n",
              "      <th>BlueCars_returned_sum</th>\n",
              "    </tr>\n",
              "  </thead>\n",
              "  <tbody>\n",
              "    <tr>\n",
              "      <th>Postal_code</th>\n",
              "      <td>1.000000</td>\n",
              "      <td>0.001558</td>\n",
              "      <td>0.000809</td>\n",
              "      <td>-0.713358</td>\n",
              "      <td>-0.714426</td>\n",
              "    </tr>\n",
              "    <tr>\n",
              "      <th>n_daily_data_points</th>\n",
              "      <td>0.001558</td>\n",
              "      <td>1.000000</td>\n",
              "      <td>0.115753</td>\n",
              "      <td>0.023170</td>\n",
              "      <td>0.024409</td>\n",
              "    </tr>\n",
              "    <tr>\n",
              "      <th>dayOfWeek</th>\n",
              "      <td>0.000809</td>\n",
              "      <td>0.115753</td>\n",
              "      <td>1.000000</td>\n",
              "      <td>-0.023001</td>\n",
              "      <td>-0.013783</td>\n",
              "    </tr>\n",
              "    <tr>\n",
              "      <th>BlueCars_taken_sum</th>\n",
              "      <td>-0.713358</td>\n",
              "      <td>0.023170</td>\n",
              "      <td>-0.023001</td>\n",
              "      <td>1.000000</td>\n",
              "      <td>0.998578</td>\n",
              "    </tr>\n",
              "    <tr>\n",
              "      <th>BlueCars_returned_sum</th>\n",
              "      <td>-0.714426</td>\n",
              "      <td>0.024409</td>\n",
              "      <td>-0.013783</td>\n",
              "      <td>0.998578</td>\n",
              "      <td>1.000000</td>\n",
              "    </tr>\n",
              "  </tbody>\n",
              "</table>\n",
              "</div>"
            ],
            "text/plain": [
              "                       Postal_code  ...  BlueCars_returned_sum\n",
              "Postal_code               1.000000  ...              -0.714426\n",
              "n_daily_data_points       0.001558  ...               0.024409\n",
              "dayOfWeek                 0.000809  ...              -0.013783\n",
              "BlueCars_taken_sum       -0.713358  ...               0.998578\n",
              "BlueCars_returned_sum    -0.714426  ...               1.000000\n",
              "\n",
              "[5 rows x 5 columns]"
            ]
          },
          "metadata": {
            "tags": []
          },
          "execution_count": 22
        }
      ]
    },
    {
      "cell_type": "markdown",
      "metadata": {
        "id": "SuqhrEPwpaue"
      },
      "source": [
        "There is a high relationship between the  Blue cars taken and Blue cars returned 0.998578"
      ]
    },
    {
      "cell_type": "markdown",
      "metadata": {
        "id": "zk8KB4cyrqch"
      },
      "source": [
        "#SECTION 3 : Hypothesis Testing"
      ]
    },
    {
      "cell_type": "markdown",
      "metadata": {
        "id": "vhEAahLHuyjK"
      },
      "source": [
        "\n",
        "Hypothesis: The number of bluecars taken from postal code 75 015 is greater than the blue car taken from postal code 75 009 over the weekends\n",
        "\n"
      ]
    },
    {
      "cell_type": "markdown",
      "metadata": {
        "id": "LH0es9cIu3h3"
      },
      "source": [
        "## Stating the null hypothesis"
      ]
    },
    {
      "cell_type": "markdown",
      "metadata": {
        "id": "HyOqsxZXvFdt"
      },
      "source": [
        "H0 : The Number of bluecars taken in 75015 is greater than bluecars taken in 75009 over the weekends\n",
        "\n",
        "H1 : The number of bluecars taken in 75015 is not greater than bluecars taken on 75009 over the weekends\n",
        "\n",
        "Selecting the statistical test: sample z-test\n",
        "\n",
        "Signifance level, alpha = 0.05\n",
        "\n",
        " \n",
        "\n"
      ]
    },
    {
      "cell_type": "code",
      "metadata": {
        "colab": {
          "base_uri": "https://localhost:8080/"
        },
        "id": "pVZiZjcHqoy0",
        "outputId": "01495fcf-58e4-4373-8131-6f817f1ffa82"
      },
      "source": [
        "# Sampling our data\n",
        "Postal_Code_75015=Weekends[Weekends['Postal_code']==75015]\n",
        "Postal_Code_75009=Weekends[Weekends['Postal_code']==75009]\n",
        "print(Postal_Code_75015.head(5))\n",
        "print(Postal_Code_75009.head(5))"
      ],
      "execution_count": 39,
      "outputs": [
        {
          "output_type": "stream",
          "text": [
            "      Postal_code       date  ...  BlueCars_taken_sum  BlueCars_returned_sum\n",
            "2189        75015 2018-01-06  ...                1061                   1015\n",
            "2190        75015 2018-01-07  ...                 913                    971\n",
            "2196        75015 2018-01-13  ...                1255                   1211\n",
            "2197        75015 2018-01-14  ...                1097                   1135\n",
            "2203        75015 2018-01-20  ...                1352                   1300\n",
            "\n",
            "[5 rows x 7 columns]\n",
            "      Postal_code       date  ...  BlueCars_taken_sum  BlueCars_returned_sum\n",
            "1253        75009 2018-01-06  ...                 433                    455\n",
            "1254        75009 2018-01-07  ...                 394                    398\n",
            "1260        75009 2018-01-13  ...                 524                    521\n",
            "1261        75009 2018-01-14  ...                 397                    423\n",
            "1267        75009 2018-01-20  ...                 503                    517\n",
            "\n",
            "[5 rows x 7 columns]\n"
          ],
          "name": "stdout"
        }
      ]
    },
    {
      "cell_type": "markdown",
      "metadata": {
        "id": "ZISb7Cb4yDcj"
      },
      "source": [
        "Testing the required conditions to help us in performing a Z test:\n",
        "\n",
        "The sample size is greater than 30\n",
        "\n",
        "The two samples are independent\n",
        "\n",
        "The samples are normally distributed\n",
        "\n",
        "The sample was randomly sampled from the population.\n",
        "\n",
        "From the above conditions we can see from the above that our samples were sampled using stratified Random sampling\n",
        "\n",
        "The two samples are independent.\n",
        "\n"
      ]
    },
    {
      "cell_type": "code",
      "metadata": {
        "colab": {
          "base_uri": "https://localhost:8080/"
        },
        "id": "AVUCZKknxa4E",
        "outputId": "dfd5510c-9ad8-469c-fc46-6bb8f1e22e05"
      },
      "source": [
        "# Sample size\n",
        "print(Postal_Code_75015.shape)\n",
        "print(Postal_Code_75009.shape)"
      ],
      "execution_count": 24,
      "outputs": [
        {
          "output_type": "stream",
          "text": [
            "(44, 7)\n",
            "(44, 7)\n"
          ],
          "name": "stdout"
        }
      ]
    },
    {
      "cell_type": "code",
      "metadata": {
        "colab": {
          "base_uri": "https://localhost:8080/"
        },
        "id": "T9kNQEd0xbeS",
        "outputId": "5e2b6025-5ea2-4596-96bf-3ac4592ce492"
      },
      "source": [
        "# Testing the normality of the first samples\n",
        "from scipy.stats import shapiro\n",
        "statistc,p_value=shapiro(Postal_Code_75015['BlueCars_taken_sum'])\n",
        "if p_value > 0.05:\n",
        "  print('Our sample data is normally distributed')\n",
        "else:\n",
        "  print('Our sample data is not normally distributed')\n",
        "print(p_value)"
      ],
      "execution_count": 44,
      "outputs": [
        {
          "output_type": "stream",
          "text": [
            "Our sample data is normally distributed\n",
            "6.519343855870829e-07\n"
          ],
          "name": "stdout"
        }
      ]
    },
    {
      "cell_type": "code",
      "metadata": {
        "colab": {
          "base_uri": "https://localhost:8080/"
        },
        "id": "bSR8FoLDvx-h",
        "outputId": "531c67f8-ae22-4e6c-f121-c622b642bf3f"
      },
      "source": [
        "# Testing the normality of the first samples\n",
        "from scipy.stats import shapiro\n",
        "statistc,p_value=shapiro(Postal_Code_75009['BlueCars_taken_sum'])\n",
        "if p_value > 0.05:\n",
        "  print('Our sample data is normally distributed')\n",
        "else:\n",
        "  print('Our sample data is not normally distributed')\n",
        "print(p_value)"
      ],
      "execution_count": 43,
      "outputs": [
        {
          "output_type": "stream",
          "text": [
            "Our sample data is normally distributed\n",
            "8.744467049837112e-05\n"
          ],
          "name": "stdout"
        }
      ]
    },
    {
      "cell_type": "code",
      "metadata": {
        "colab": {
          "base_uri": "https://localhost:8080/"
        },
        "id": "1tLtxEmQv8l8",
        "outputId": "f0542b9e-4db2-41d9-bd38-d35466bae958"
      },
      "source": [
        "print(\"Our data has satisfied our assumptions we need, testing our hypothesis\")"
      ],
      "execution_count": 28,
      "outputs": [
        {
          "output_type": "stream",
          "text": [
            "Our data has satisfied our assumptions we need, testing our hypothesis\n"
          ],
          "name": "stdout"
        }
      ]
    },
    {
      "cell_type": "code",
      "metadata": {
        "colab": {
          "base_uri": "https://localhost:8080/"
        },
        "id": "RVO9py-_wCdJ",
        "outputId": "47bc1f0c-e8a2-4a00-dbb0-cf24355219f8"
      },
      "source": [
        "# z-test\n",
        "from scipy import stats\n",
        "from statsmodels.stats import weightstats as stest\n",
        "ztest,p_value=stest.ztest(Postal_Code_75015['BlueCars_taken_sum'],Postal_Code_75009['BlueCars_taken_sum'])\n",
        "if p_value > 0.05:\n",
        "  print('Reject the null hypothesis thus the study is significant')\n",
        "else:\n",
        "  print('fail to reject the Null hypothesis')\n",
        "print('pvalue:-',p_value)\n",
        "print('z statistics:-',ztest)"
      ],
      "execution_count": 41,
      "outputs": [
        {
          "output_type": "stream",
          "text": [
            "fail to reject the Null hypothesis\n",
            "pvalue:- 2.7260027859120197e-88\n",
            "z statistics:- 19.92007169691216\n"
          ],
          "name": "stdout"
        }
      ]
    },
    {
      "cell_type": "markdown",
      "metadata": {
        "id": "TiW8uvv4Wlin"
      },
      "source": [
        "#SECTION 4 : Conclusion"
      ]
    },
    {
      "cell_type": "markdown",
      "metadata": {
        "id": "MTpibeSyW_Ke"
      },
      "source": [
        "Since the pvalue is less than a=0.05 we fail to reject the null hypothesis signifying Postal station 75 015 has a higher number of Blue cars compared to 75 009"
      ]
    },
    {
      "cell_type": "markdown",
      "metadata": {
        "id": "fiwsZejQWxvA"
      },
      "source": [
        "#SECTION 5 : Recommendation"
      ]
    },
    {
      "cell_type": "markdown",
      "metadata": {
        "id": "1ZvTOeWYZNAW"
      },
      "source": [
        "Increase the number of blue cars to be borrowed at postal station 75 015"
      ]
    }
  ]
}